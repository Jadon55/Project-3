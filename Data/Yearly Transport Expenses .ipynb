{
 "cells": [
  {
   "cell_type": "code",
   "execution_count": 103,
   "id": "49f880ff",
   "metadata": {},
   "outputs": [],
   "source": [
    "import pandas as pd\n",
    "from pathlib import Path "
   ]
  },
  {
   "cell_type": "markdown",
   "id": "4c148b4f",
   "metadata": {},
   "source": [
    "Pulling data for cost of maintaning roads under Road maintenance, operation and renewals from https://www.nzta.govt.nz/planning-and-investment/learning-and-resources/transport-data/funding-and-transport-dashboard-and-open-data"
   ]
  },
  {
   "cell_type": "code",
   "execution_count": 104,
   "id": "2d0d19c5",
   "metadata": {},
   "outputs": [],
   "source": [
    "df = pd.read_csv('FundRoadMOR.csv')"
   ]
  },
  {
   "cell_type": "code",
   "execution_count": 105,
   "id": "78c577c3",
   "metadata": {},
   "outputs": [
    {
     "data": {
      "text/html": [
       "<div>\n",
       "<style scoped>\n",
       "    .dataframe tbody tr th:only-of-type {\n",
       "        vertical-align: middle;\n",
       "    }\n",
       "\n",
       "    .dataframe tbody tr th {\n",
       "        vertical-align: top;\n",
       "    }\n",
       "\n",
       "    .dataframe thead th {\n",
       "        text-align: right;\n",
       "    }\n",
       "</style>\n",
       "<table border=\"1\" class=\"dataframe\">\n",
       "  <thead>\n",
       "    <tr style=\"text-align: right;\">\n",
       "      <th></th>\n",
       "      <th>Authority Type</th>\n",
       "      <th>Region</th>\n",
       "      <th>Expenditure Type</th>\n",
       "      <th>Work Category</th>\n",
       "      <th>Funding Authority</th>\n",
       "      <th>2011/12</th>\n",
       "      <th>2012/13</th>\n",
       "      <th>2013/14</th>\n",
       "      <th>2014/15</th>\n",
       "      <th>2015/16</th>\n",
       "      <th>2016/17</th>\n",
       "      <th>2017/18</th>\n",
       "      <th>2018/19</th>\n",
       "      <th>2019/20</th>\n",
       "      <th>2020/21</th>\n",
       "      <th>2021/22</th>\n",
       "    </tr>\n",
       "  </thead>\n",
       "  <tbody>\n",
       "    <tr>\n",
       "      <th>0</th>\n",
       "      <td>National</td>\n",
       "      <td>New Zealand</td>\n",
       "      <td>Road Maintenance</td>\n",
       "      <td>Corridor</td>\n",
       "      <td>Expenditure - Local</td>\n",
       "      <td>$67,897,140</td>\n",
       "      <td>$65,216,099</td>\n",
       "      <td>$65,088,815</td>\n",
       "      <td>$68,118,670</td>\n",
       "      <td>$68,113,122</td>\n",
       "      <td>$66,587,799</td>\n",
       "      <td>$69,835,639</td>\n",
       "      <td>$69,008,603</td>\n",
       "      <td>$69,412,187</td>\n",
       "      <td>$74,629,658</td>\n",
       "      <td>$79,222,855</td>\n",
       "    </tr>\n",
       "    <tr>\n",
       "      <th>1</th>\n",
       "      <td>National</td>\n",
       "      <td>New Zealand</td>\n",
       "      <td>Road Maintenance</td>\n",
       "      <td>Corridor</td>\n",
       "      <td>Expenditure - NZTA</td>\n",
       "      <td>$132,306,527</td>\n",
       "      <td>$136,972,281</td>\n",
       "      <td>$157,810,277</td>\n",
       "      <td>$151,441,895</td>\n",
       "      <td>$155,943,617</td>\n",
       "      <td>$170,518,062</td>\n",
       "      <td>$188,552,033</td>\n",
       "      <td>$190,207,972</td>\n",
       "      <td>$197,522,161</td>\n",
       "      <td>$206,838,302</td>\n",
       "      <td>$215,086,673</td>\n",
       "    </tr>\n",
       "    <tr>\n",
       "      <th>2</th>\n",
       "      <td>National</td>\n",
       "      <td>New Zealand</td>\n",
       "      <td>Road Maintenance</td>\n",
       "      <td>Cycling Facilities</td>\n",
       "      <td>Expenditure - Local</td>\n",
       "      <td>$484,812</td>\n",
       "      <td>$594,185</td>\n",
       "      <td>$773,184</td>\n",
       "      <td>$702,357</td>\n",
       "      <td>$725,885</td>\n",
       "      <td>$725,152</td>\n",
       "      <td>$864,706</td>\n",
       "      <td>$1,112,034</td>\n",
       "      <td>$912,590</td>\n",
       "      <td>$1,082,720</td>\n",
       "      <td>$1,459,358</td>\n",
       "    </tr>\n",
       "    <tr>\n",
       "      <th>3</th>\n",
       "      <td>National</td>\n",
       "      <td>New Zealand</td>\n",
       "      <td>Road Maintenance</td>\n",
       "      <td>Cycling Facilities</td>\n",
       "      <td>Expenditure - NZTA</td>\n",
       "      <td>$932,044</td>\n",
       "      <td>$783,927</td>\n",
       "      <td>$879,513</td>\n",
       "      <td>$1,075,265</td>\n",
       "      <td>$1,065,281</td>\n",
       "      <td>$1,174,262</td>\n",
       "      <td>$1,309,749</td>\n",
       "      <td>$1,608,040</td>\n",
       "      <td>$1,619,960</td>\n",
       "      <td>$1,770,782</td>\n",
       "      <td>$2,222,979</td>\n",
       "    </tr>\n",
       "    <tr>\n",
       "      <th>4</th>\n",
       "      <td>National</td>\n",
       "      <td>New Zealand</td>\n",
       "      <td>Road Maintenance</td>\n",
       "      <td>Emergency Reinstatement</td>\n",
       "      <td>Expenditure - Local</td>\n",
       "      <td>$35,921,498</td>\n",
       "      <td>$35,824,463</td>\n",
       "      <td>$37,425,700</td>\n",
       "      <td>$29,979,800</td>\n",
       "      <td>$32,337,090</td>\n",
       "      <td>$34,681,457</td>\n",
       "      <td>$44,416,118</td>\n",
       "      <td>$33,593,216</td>\n",
       "      <td>$16,147,293</td>\n",
       "      <td>$19,048,408</td>\n",
       "      <td>$32,367,015</td>\n",
       "    </tr>\n",
       "  </tbody>\n",
       "</table>\n",
       "</div>"
      ],
      "text/plain": [
       "  Authority Type       Region  Expenditure Type            Work Category  \\\n",
       "0       National  New Zealand  Road Maintenance                 Corridor   \n",
       "1       National  New Zealand  Road Maintenance                 Corridor   \n",
       "2       National  New Zealand  Road Maintenance       Cycling Facilities   \n",
       "3       National  New Zealand  Road Maintenance       Cycling Facilities   \n",
       "4       National  New Zealand  Road Maintenance  Emergency Reinstatement   \n",
       "\n",
       "     Funding Authority        2011/12         2012/13         2013/14   \\\n",
       "0  Expenditure - Local    $67,897,140     $65,216,099     $65,088,815    \n",
       "1   Expenditure - NZTA   $132,306,527    $136,972,281    $157,810,277    \n",
       "2  Expenditure - Local       $484,812        $594,185        $773,184    \n",
       "3   Expenditure - NZTA       $932,044        $783,927        $879,513    \n",
       "4  Expenditure - Local    $35,921,498     $35,824,463     $37,425,700    \n",
       "\n",
       "         2014/15         2015/16         2016/17         2017/18   \\\n",
       "0    $68,118,670     $68,113,122     $66,587,799     $69,835,639    \n",
       "1   $151,441,895    $155,943,617    $170,518,062    $188,552,033    \n",
       "2       $702,357        $725,885        $725,152        $864,706    \n",
       "3     $1,075,265      $1,065,281      $1,174,262      $1,309,749    \n",
       "4    $29,979,800     $32,337,090     $34,681,457     $44,416,118    \n",
       "\n",
       "         2018/19         2019/20         2020/21          2021/22  \n",
       "0    $69,008,603     $69,412,187     $74,629,658     $79,222,855   \n",
       "1   $190,207,972    $197,522,161    $206,838,302    $215,086,673   \n",
       "2     $1,112,034        $912,590      $1,082,720      $1,459,358   \n",
       "3     $1,608,040      $1,619,960      $1,770,782      $2,222,979   \n",
       "4    $33,593,216     $16,147,293     $19,048,408     $32,367,015   "
      ]
     },
     "execution_count": 105,
     "metadata": {},
     "output_type": "execute_result"
    }
   ],
   "source": [
    "df.head()"
   ]
  },
  {
   "cell_type": "code",
   "execution_count": 106,
   "id": "d70d7a79",
   "metadata": {},
   "outputs": [],
   "source": [
    "#removed features not based on roads\n",
    "df1 = df[(df['Work Category'] != 'Cycling Facilities') & (df['Work Category'] != 'Footpath') & (df['Work Category'] != 'Financial grants & stimulus')]"
   ]
  },
  {
   "cell_type": "code",
   "execution_count": 107,
   "id": "90d8d1e7",
   "metadata": {},
   "outputs": [
    {
     "data": {
      "text/plain": [
       "Index(['Authority Type', 'Region', 'Expenditure Type', 'Work Category',\n",
       "       'Funding Authority', ' 2011/12 ', ' 2012/13 ', ' 2013/14 ', ' 2014/15 ',\n",
       "       ' 2015/16 ', ' 2016/17 ', ' 2017/18 ', ' 2018/19 ', ' 2019/20 ',\n",
       "       ' 2020/21 ', '2021/22'],\n",
       "      dtype='object')"
      ]
     },
     "execution_count": 107,
     "metadata": {},
     "output_type": "execute_result"
    }
   ],
   "source": [
    "df1.columns"
   ]
  },
  {
   "cell_type": "code",
   "execution_count": 108,
   "id": "44a6e7b5",
   "metadata": {},
   "outputs": [
    {
     "data": {
      "text/html": [
       "<div>\n",
       "<style scoped>\n",
       "    .dataframe tbody tr th:only-of-type {\n",
       "        vertical-align: middle;\n",
       "    }\n",
       "\n",
       "    .dataframe tbody tr th {\n",
       "        vertical-align: top;\n",
       "    }\n",
       "\n",
       "    .dataframe thead th {\n",
       "        text-align: right;\n",
       "    }\n",
       "</style>\n",
       "<table border=\"1\" class=\"dataframe\">\n",
       "  <thead>\n",
       "    <tr style=\"text-align: right;\">\n",
       "      <th></th>\n",
       "      <th>Authority Type</th>\n",
       "      <th>Region</th>\n",
       "      <th>Expenditure Type</th>\n",
       "      <th>Work Category</th>\n",
       "      <th>Funding Authority</th>\n",
       "      <th>2017/18</th>\n",
       "      <th>2018/19</th>\n",
       "      <th>2019/20</th>\n",
       "      <th>2020/21</th>\n",
       "      <th>2021/22</th>\n",
       "    </tr>\n",
       "  </thead>\n",
       "  <tbody>\n",
       "    <tr>\n",
       "      <th>0</th>\n",
       "      <td>National</td>\n",
       "      <td>New Zealand</td>\n",
       "      <td>Road Maintenance</td>\n",
       "      <td>Corridor</td>\n",
       "      <td>Expenditure - Local</td>\n",
       "      <td>$69,835,639</td>\n",
       "      <td>$69,008,603</td>\n",
       "      <td>$69,412,187</td>\n",
       "      <td>$74,629,658</td>\n",
       "      <td>$79,222,855</td>\n",
       "    </tr>\n",
       "    <tr>\n",
       "      <th>1</th>\n",
       "      <td>National</td>\n",
       "      <td>New Zealand</td>\n",
       "      <td>Road Maintenance</td>\n",
       "      <td>Corridor</td>\n",
       "      <td>Expenditure - NZTA</td>\n",
       "      <td>$188,552,033</td>\n",
       "      <td>$190,207,972</td>\n",
       "      <td>$197,522,161</td>\n",
       "      <td>$206,838,302</td>\n",
       "      <td>$215,086,673</td>\n",
       "    </tr>\n",
       "    <tr>\n",
       "      <th>4</th>\n",
       "      <td>National</td>\n",
       "      <td>New Zealand</td>\n",
       "      <td>Road Maintenance</td>\n",
       "      <td>Emergency Reinstatement</td>\n",
       "      <td>Expenditure - Local</td>\n",
       "      <td>$44,416,118</td>\n",
       "      <td>$33,593,216</td>\n",
       "      <td>$16,147,293</td>\n",
       "      <td>$19,048,408</td>\n",
       "      <td>$32,367,015</td>\n",
       "    </tr>\n",
       "    <tr>\n",
       "      <th>5</th>\n",
       "      <td>National</td>\n",
       "      <td>New Zealand</td>\n",
       "      <td>Road Maintenance</td>\n",
       "      <td>Emergency Reinstatement</td>\n",
       "      <td>Expenditure - NZTA</td>\n",
       "      <td>$647,217,091</td>\n",
       "      <td>$302,849,600</td>\n",
       "      <td>$176,459,934</td>\n",
       "      <td>$173,747,175</td>\n",
       "      <td>$172,903,958</td>\n",
       "    </tr>\n",
       "    <tr>\n",
       "      <th>6</th>\n",
       "      <td>National</td>\n",
       "      <td>New Zealand</td>\n",
       "      <td>Road Maintenance</td>\n",
       "      <td>Environment &amp; Drainage</td>\n",
       "      <td>Expenditure - Local</td>\n",
       "      <td>$63,234,168</td>\n",
       "      <td>$68,758,236</td>\n",
       "      <td>$67,995,215</td>\n",
       "      <td>$74,951,406</td>\n",
       "      <td>$78,162,102</td>\n",
       "    </tr>\n",
       "  </tbody>\n",
       "</table>\n",
       "</div>"
      ],
      "text/plain": [
       "  Authority Type       Region  Expenditure Type            Work Category  \\\n",
       "0       National  New Zealand  Road Maintenance                 Corridor   \n",
       "1       National  New Zealand  Road Maintenance                 Corridor   \n",
       "4       National  New Zealand  Road Maintenance  Emergency Reinstatement   \n",
       "5       National  New Zealand  Road Maintenance  Emergency Reinstatement   \n",
       "6       National  New Zealand  Road Maintenance   Environment & Drainage   \n",
       "\n",
       "     Funding Authority        2017/18         2018/19         2019/20   \\\n",
       "0  Expenditure - Local    $69,835,639     $69,008,603     $69,412,187    \n",
       "1   Expenditure - NZTA   $188,552,033    $190,207,972    $197,522,161    \n",
       "4  Expenditure - Local    $44,416,118     $33,593,216     $16,147,293    \n",
       "5   Expenditure - NZTA   $647,217,091    $302,849,600    $176,459,934    \n",
       "6  Expenditure - Local    $63,234,168     $68,758,236     $67,995,215    \n",
       "\n",
       "         2020/21          2021/22  \n",
       "0    $74,629,658     $79,222,855   \n",
       "1   $206,838,302    $215,086,673   \n",
       "4    $19,048,408     $32,367,015   \n",
       "5   $173,747,175    $172,903,958   \n",
       "6    $74,951,406     $78,162,102   "
      ]
     },
     "execution_count": 108,
     "metadata": {},
     "output_type": "execute_result"
    }
   ],
   "source": [
    "#Drop unneeded collums\n",
    "df2 = df1.drop(columns=[' 2011/12 ', ' 2012/13 ', ' 2013/14 ', ' 2014/15 ', ' 2015/16 ', ' 2016/17 '])\n",
    "df2.head()"
   ]
  },
  {
   "cell_type": "code",
   "execution_count": 109,
   "id": "23702a3e",
   "metadata": {},
   "outputs": [
    {
     "data": {
      "text/plain": [
       "Authority Type       object\n",
       "Region               object\n",
       "Expenditure Type     object\n",
       "Work Category        object\n",
       "Funding Authority    object\n",
       " 2017/18             object\n",
       " 2018/19             object\n",
       " 2019/20             object\n",
       " 2020/21             object\n",
       "2021/22              object\n",
       "dtype: object"
      ]
     },
     "execution_count": 109,
     "metadata": {},
     "output_type": "execute_result"
    }
   ],
   "source": [
    "df2.dtypes"
   ]
  },
  {
   "cell_type": "code",
   "execution_count": 110,
   "id": "51b989cd",
   "metadata": {},
   "outputs": [
    {
     "ename": "ValueError",
     "evalue": "cannot convert float NaN to integer",
     "output_type": "error",
     "traceback": [
      "\u001b[0;31m---------------------------------------------------------------------------\u001b[0m",
      "\u001b[0;31mValueError\u001b[0m                                Traceback (most recent call last)",
      "Cell \u001b[0;32mIn[110], line 5\u001b[0m\n\u001b[1;32m      2\u001b[0m dates \u001b[38;5;241m=\u001b[39m [\u001b[38;5;124m'\u001b[39m\u001b[38;5;124m 2017/18 \u001b[39m\u001b[38;5;124m'\u001b[39m, \u001b[38;5;124m'\u001b[39m\u001b[38;5;124m 2018/19 \u001b[39m\u001b[38;5;124m'\u001b[39m, \u001b[38;5;124m'\u001b[39m\u001b[38;5;124m 2019/20 \u001b[39m\u001b[38;5;124m'\u001b[39m,\n\u001b[1;32m      3\u001b[0m        \u001b[38;5;124m'\u001b[39m\u001b[38;5;124m 2020/21 \u001b[39m\u001b[38;5;124m'\u001b[39m, \u001b[38;5;124m'\u001b[39m\u001b[38;5;124m2021/22\u001b[39m\u001b[38;5;124m'\u001b[39m]\n\u001b[1;32m      4\u001b[0m \u001b[38;5;28;01mfor\u001b[39;00m x \u001b[38;5;129;01min\u001b[39;00m dates:\n\u001b[0;32m----> 5\u001b[0m     df2[x] \u001b[38;5;241m=\u001b[39m \u001b[43mdf2\u001b[49m\u001b[43m[\u001b[49m\u001b[43mx\u001b[49m\u001b[43m]\u001b[49m\u001b[38;5;241;43m.\u001b[39;49m\u001b[43mreplace\u001b[49m\u001b[43m(\u001b[49m\u001b[38;5;124;43m\"\u001b[39;49m\u001b[38;5;124;43m[$,]\u001b[39;49m\u001b[38;5;124;43m\"\u001b[39;49m\u001b[43m,\u001b[49m\u001b[43m \u001b[49m\u001b[38;5;124;43m\"\u001b[39;49m\u001b[38;5;124;43m\"\u001b[39;49m\u001b[43m,\u001b[49m\u001b[43m \u001b[49m\u001b[43mregex\u001b[49m\u001b[38;5;241;43m=\u001b[39;49m\u001b[38;5;28;43;01mTrue\u001b[39;49;00m\u001b[43m)\u001b[49m\u001b[38;5;241;43m.\u001b[39;49m\u001b[43mreplace\u001b[49m\u001b[43m(\u001b[49m\u001b[38;5;124;43m\"\u001b[39;49m\u001b[38;5;124;43m[-$]\u001b[39;49m\u001b[38;5;124;43m\"\u001b[39;49m\u001b[43m,\u001b[49m\u001b[43m \u001b[49m\u001b[38;5;124;43m\"\u001b[39;49m\u001b[38;5;124;43m0\u001b[39;49m\u001b[38;5;124;43m\"\u001b[39;49m\u001b[43m,\u001b[49m\u001b[43m \u001b[49m\u001b[43mregex\u001b[49m\u001b[38;5;241;43m=\u001b[39;49m\u001b[38;5;28;43;01mTrue\u001b[39;49;00m\u001b[43m)\u001b[49m\u001b[38;5;241;43m.\u001b[39;49m\u001b[43mastype\u001b[49m\u001b[43m(\u001b[49m\u001b[38;5;28;43mint\u001b[39;49m\u001b[43m)\u001b[49m\n",
      "File \u001b[0;32m~/anaconda3/envs/dev/lib/python3.10/site-packages/pandas/core/generic.py:6240\u001b[0m, in \u001b[0;36mNDFrame.astype\u001b[0;34m(self, dtype, copy, errors)\u001b[0m\n\u001b[1;32m   6233\u001b[0m     results \u001b[38;5;241m=\u001b[39m [\n\u001b[1;32m   6234\u001b[0m         \u001b[38;5;28mself\u001b[39m\u001b[38;5;241m.\u001b[39miloc[:, i]\u001b[38;5;241m.\u001b[39mastype(dtype, copy\u001b[38;5;241m=\u001b[39mcopy)\n\u001b[1;32m   6235\u001b[0m         \u001b[38;5;28;01mfor\u001b[39;00m i \u001b[38;5;129;01min\u001b[39;00m \u001b[38;5;28mrange\u001b[39m(\u001b[38;5;28mlen\u001b[39m(\u001b[38;5;28mself\u001b[39m\u001b[38;5;241m.\u001b[39mcolumns))\n\u001b[1;32m   6236\u001b[0m     ]\n\u001b[1;32m   6238\u001b[0m \u001b[38;5;28;01melse\u001b[39;00m:\n\u001b[1;32m   6239\u001b[0m     \u001b[38;5;66;03m# else, only a single dtype is given\u001b[39;00m\n\u001b[0;32m-> 6240\u001b[0m     new_data \u001b[38;5;241m=\u001b[39m \u001b[38;5;28;43mself\u001b[39;49m\u001b[38;5;241;43m.\u001b[39;49m\u001b[43m_mgr\u001b[49m\u001b[38;5;241;43m.\u001b[39;49m\u001b[43mastype\u001b[49m\u001b[43m(\u001b[49m\u001b[43mdtype\u001b[49m\u001b[38;5;241;43m=\u001b[39;49m\u001b[43mdtype\u001b[49m\u001b[43m,\u001b[49m\u001b[43m \u001b[49m\u001b[43mcopy\u001b[49m\u001b[38;5;241;43m=\u001b[39;49m\u001b[43mcopy\u001b[49m\u001b[43m,\u001b[49m\u001b[43m \u001b[49m\u001b[43merrors\u001b[49m\u001b[38;5;241;43m=\u001b[39;49m\u001b[43merrors\u001b[49m\u001b[43m)\u001b[49m\n\u001b[1;32m   6241\u001b[0m     \u001b[38;5;28;01mreturn\u001b[39;00m \u001b[38;5;28mself\u001b[39m\u001b[38;5;241m.\u001b[39m_constructor(new_data)\u001b[38;5;241m.\u001b[39m__finalize__(\u001b[38;5;28mself\u001b[39m, method\u001b[38;5;241m=\u001b[39m\u001b[38;5;124m\"\u001b[39m\u001b[38;5;124mastype\u001b[39m\u001b[38;5;124m\"\u001b[39m)\n\u001b[1;32m   6243\u001b[0m \u001b[38;5;66;03m# GH 33113: handle empty frame or series\u001b[39;00m\n",
      "File \u001b[0;32m~/anaconda3/envs/dev/lib/python3.10/site-packages/pandas/core/internals/managers.py:448\u001b[0m, in \u001b[0;36mBaseBlockManager.astype\u001b[0;34m(self, dtype, copy, errors)\u001b[0m\n\u001b[1;32m    447\u001b[0m \u001b[38;5;28;01mdef\u001b[39;00m \u001b[38;5;21mastype\u001b[39m(\u001b[38;5;28mself\u001b[39m: T, dtype, copy: \u001b[38;5;28mbool\u001b[39m \u001b[38;5;241m=\u001b[39m \u001b[38;5;28;01mFalse\u001b[39;00m, errors: \u001b[38;5;28mstr\u001b[39m \u001b[38;5;241m=\u001b[39m \u001b[38;5;124m\"\u001b[39m\u001b[38;5;124mraise\u001b[39m\u001b[38;5;124m\"\u001b[39m) \u001b[38;5;241m-\u001b[39m\u001b[38;5;241m>\u001b[39m T:\n\u001b[0;32m--> 448\u001b[0m     \u001b[38;5;28;01mreturn\u001b[39;00m \u001b[38;5;28;43mself\u001b[39;49m\u001b[38;5;241;43m.\u001b[39;49m\u001b[43mapply\u001b[49m\u001b[43m(\u001b[49m\u001b[38;5;124;43m\"\u001b[39;49m\u001b[38;5;124;43mastype\u001b[39;49m\u001b[38;5;124;43m\"\u001b[39;49m\u001b[43m,\u001b[49m\u001b[43m \u001b[49m\u001b[43mdtype\u001b[49m\u001b[38;5;241;43m=\u001b[39;49m\u001b[43mdtype\u001b[49m\u001b[43m,\u001b[49m\u001b[43m \u001b[49m\u001b[43mcopy\u001b[49m\u001b[38;5;241;43m=\u001b[39;49m\u001b[43mcopy\u001b[49m\u001b[43m,\u001b[49m\u001b[43m \u001b[49m\u001b[43merrors\u001b[49m\u001b[38;5;241;43m=\u001b[39;49m\u001b[43merrors\u001b[49m\u001b[43m)\u001b[49m\n",
      "File \u001b[0;32m~/anaconda3/envs/dev/lib/python3.10/site-packages/pandas/core/internals/managers.py:352\u001b[0m, in \u001b[0;36mBaseBlockManager.apply\u001b[0;34m(self, f, align_keys, ignore_failures, **kwargs)\u001b[0m\n\u001b[1;32m    350\u001b[0m         applied \u001b[38;5;241m=\u001b[39m b\u001b[38;5;241m.\u001b[39mapply(f, \u001b[38;5;241m*\u001b[39m\u001b[38;5;241m*\u001b[39mkwargs)\n\u001b[1;32m    351\u001b[0m     \u001b[38;5;28;01melse\u001b[39;00m:\n\u001b[0;32m--> 352\u001b[0m         applied \u001b[38;5;241m=\u001b[39m \u001b[38;5;28;43mgetattr\u001b[39;49m\u001b[43m(\u001b[49m\u001b[43mb\u001b[49m\u001b[43m,\u001b[49m\u001b[43m \u001b[49m\u001b[43mf\u001b[49m\u001b[43m)\u001b[49m\u001b[43m(\u001b[49m\u001b[38;5;241;43m*\u001b[39;49m\u001b[38;5;241;43m*\u001b[39;49m\u001b[43mkwargs\u001b[49m\u001b[43m)\u001b[49m\n\u001b[1;32m    353\u001b[0m \u001b[38;5;28;01mexcept\u001b[39;00m (\u001b[38;5;167;01mTypeError\u001b[39;00m, \u001b[38;5;167;01mNotImplementedError\u001b[39;00m):\n\u001b[1;32m    354\u001b[0m     \u001b[38;5;28;01mif\u001b[39;00m \u001b[38;5;129;01mnot\u001b[39;00m ignore_failures:\n",
      "File \u001b[0;32m~/anaconda3/envs/dev/lib/python3.10/site-packages/pandas/core/internals/blocks.py:526\u001b[0m, in \u001b[0;36mBlock.astype\u001b[0;34m(self, dtype, copy, errors)\u001b[0m\n\u001b[1;32m    508\u001b[0m \u001b[38;5;250m\u001b[39m\u001b[38;5;124;03m\"\"\"\u001b[39;00m\n\u001b[1;32m    509\u001b[0m \u001b[38;5;124;03mCoerce to the new dtype.\u001b[39;00m\n\u001b[1;32m    510\u001b[0m \n\u001b[0;32m   (...)\u001b[0m\n\u001b[1;32m    522\u001b[0m \u001b[38;5;124;03mBlock\u001b[39;00m\n\u001b[1;32m    523\u001b[0m \u001b[38;5;124;03m\"\"\"\u001b[39;00m\n\u001b[1;32m    524\u001b[0m values \u001b[38;5;241m=\u001b[39m \u001b[38;5;28mself\u001b[39m\u001b[38;5;241m.\u001b[39mvalues\n\u001b[0;32m--> 526\u001b[0m new_values \u001b[38;5;241m=\u001b[39m \u001b[43mastype_array_safe\u001b[49m\u001b[43m(\u001b[49m\u001b[43mvalues\u001b[49m\u001b[43m,\u001b[49m\u001b[43m \u001b[49m\u001b[43mdtype\u001b[49m\u001b[43m,\u001b[49m\u001b[43m \u001b[49m\u001b[43mcopy\u001b[49m\u001b[38;5;241;43m=\u001b[39;49m\u001b[43mcopy\u001b[49m\u001b[43m,\u001b[49m\u001b[43m \u001b[49m\u001b[43merrors\u001b[49m\u001b[38;5;241;43m=\u001b[39;49m\u001b[43merrors\u001b[49m\u001b[43m)\u001b[49m\n\u001b[1;32m    528\u001b[0m new_values \u001b[38;5;241m=\u001b[39m maybe_coerce_values(new_values)\n\u001b[1;32m    529\u001b[0m newb \u001b[38;5;241m=\u001b[39m \u001b[38;5;28mself\u001b[39m\u001b[38;5;241m.\u001b[39mmake_block(new_values)\n",
      "File \u001b[0;32m~/anaconda3/envs/dev/lib/python3.10/site-packages/pandas/core/dtypes/astype.py:299\u001b[0m, in \u001b[0;36mastype_array_safe\u001b[0;34m(values, dtype, copy, errors)\u001b[0m\n\u001b[1;32m    296\u001b[0m     \u001b[38;5;28;01mreturn\u001b[39;00m values\u001b[38;5;241m.\u001b[39mcopy()\n\u001b[1;32m    298\u001b[0m \u001b[38;5;28;01mtry\u001b[39;00m:\n\u001b[0;32m--> 299\u001b[0m     new_values \u001b[38;5;241m=\u001b[39m \u001b[43mastype_array\u001b[49m\u001b[43m(\u001b[49m\u001b[43mvalues\u001b[49m\u001b[43m,\u001b[49m\u001b[43m \u001b[49m\u001b[43mdtype\u001b[49m\u001b[43m,\u001b[49m\u001b[43m \u001b[49m\u001b[43mcopy\u001b[49m\u001b[38;5;241;43m=\u001b[39;49m\u001b[43mcopy\u001b[49m\u001b[43m)\u001b[49m\n\u001b[1;32m    300\u001b[0m \u001b[38;5;28;01mexcept\u001b[39;00m (\u001b[38;5;167;01mValueError\u001b[39;00m, \u001b[38;5;167;01mTypeError\u001b[39;00m):\n\u001b[1;32m    301\u001b[0m     \u001b[38;5;66;03m# e.g. astype_nansafe can fail on object-dtype of strings\u001b[39;00m\n\u001b[1;32m    302\u001b[0m     \u001b[38;5;66;03m#  trying to convert to float\u001b[39;00m\n\u001b[1;32m    303\u001b[0m     \u001b[38;5;28;01mif\u001b[39;00m errors \u001b[38;5;241m==\u001b[39m \u001b[38;5;124m\"\u001b[39m\u001b[38;5;124mignore\u001b[39m\u001b[38;5;124m\"\u001b[39m:\n",
      "File \u001b[0;32m~/anaconda3/envs/dev/lib/python3.10/site-packages/pandas/core/dtypes/astype.py:230\u001b[0m, in \u001b[0;36mastype_array\u001b[0;34m(values, dtype, copy)\u001b[0m\n\u001b[1;32m    227\u001b[0m     values \u001b[38;5;241m=\u001b[39m values\u001b[38;5;241m.\u001b[39mastype(dtype, copy\u001b[38;5;241m=\u001b[39mcopy)\n\u001b[1;32m    229\u001b[0m \u001b[38;5;28;01melse\u001b[39;00m:\n\u001b[0;32m--> 230\u001b[0m     values \u001b[38;5;241m=\u001b[39m \u001b[43mastype_nansafe\u001b[49m\u001b[43m(\u001b[49m\u001b[43mvalues\u001b[49m\u001b[43m,\u001b[49m\u001b[43m \u001b[49m\u001b[43mdtype\u001b[49m\u001b[43m,\u001b[49m\u001b[43m \u001b[49m\u001b[43mcopy\u001b[49m\u001b[38;5;241;43m=\u001b[39;49m\u001b[43mcopy\u001b[49m\u001b[43m)\u001b[49m\n\u001b[1;32m    232\u001b[0m \u001b[38;5;66;03m# in pandas we don't store numpy str dtypes, so convert to object\u001b[39;00m\n\u001b[1;32m    233\u001b[0m \u001b[38;5;28;01mif\u001b[39;00m \u001b[38;5;28misinstance\u001b[39m(dtype, np\u001b[38;5;241m.\u001b[39mdtype) \u001b[38;5;129;01mand\u001b[39;00m \u001b[38;5;28missubclass\u001b[39m(values\u001b[38;5;241m.\u001b[39mdtype\u001b[38;5;241m.\u001b[39mtype, \u001b[38;5;28mstr\u001b[39m):\n",
      "File \u001b[0;32m~/anaconda3/envs/dev/lib/python3.10/site-packages/pandas/core/dtypes/astype.py:170\u001b[0m, in \u001b[0;36mastype_nansafe\u001b[0;34m(arr, dtype, copy, skipna)\u001b[0m\n\u001b[1;32m    166\u001b[0m     \u001b[38;5;28;01mraise\u001b[39;00m \u001b[38;5;167;01mValueError\u001b[39;00m(msg)\n\u001b[1;32m    168\u001b[0m \u001b[38;5;28;01mif\u001b[39;00m copy \u001b[38;5;129;01mor\u001b[39;00m is_object_dtype(arr\u001b[38;5;241m.\u001b[39mdtype) \u001b[38;5;129;01mor\u001b[39;00m is_object_dtype(dtype):\n\u001b[1;32m    169\u001b[0m     \u001b[38;5;66;03m# Explicit copy, or required since NumPy can't view from / to object.\u001b[39;00m\n\u001b[0;32m--> 170\u001b[0m     \u001b[38;5;28;01mreturn\u001b[39;00m \u001b[43marr\u001b[49m\u001b[38;5;241;43m.\u001b[39;49m\u001b[43mastype\u001b[49m\u001b[43m(\u001b[49m\u001b[43mdtype\u001b[49m\u001b[43m,\u001b[49m\u001b[43m \u001b[49m\u001b[43mcopy\u001b[49m\u001b[38;5;241;43m=\u001b[39;49m\u001b[38;5;28;43;01mTrue\u001b[39;49;00m\u001b[43m)\u001b[49m\n\u001b[1;32m    172\u001b[0m \u001b[38;5;28;01mreturn\u001b[39;00m arr\u001b[38;5;241m.\u001b[39mastype(dtype, copy\u001b[38;5;241m=\u001b[39mcopy)\n",
      "\u001b[0;31mValueError\u001b[0m: cannot convert float NaN to integer"
     ]
    }
   ],
   "source": [
    "#clean expense data and change to float\n",
    "dates = [' 2017/18 ', ' 2018/19 ', ' 2019/20 ',\n",
    "       ' 2020/21 ', '2021/22']\n",
    "for x in dates:\n",
    "    df2[x] = df2[x].replace(\"[$,]\", \"\", regex=True).replace(\"[-$]\", \"0\", regex=True).astype(float)\n",
    "    "
   ]
  },
  {
   "cell_type": "code",
   "execution_count": null,
   "id": "7620de75",
   "metadata": {},
   "outputs": [],
   "source": [
    "df2"
   ]
  },
  {
   "cell_type": "code",
   "execution_count": null,
   "id": "7ecf3ec4",
   "metadata": {},
   "outputs": [],
   "source": [
    "#removing Teritorial Authority  rows\n",
    "df3 = df2[df2['Authority Type'] != 'Teritorial Authority']\n",
    "df3['Authority Type'].value_counts()"
   ]
  },
  {
   "cell_type": "code",
   "execution_count": null,
   "id": "ba3d6bae",
   "metadata": {},
   "outputs": [],
   "source": [
    "df3"
   ]
  },
  {
   "cell_type": "code",
   "execution_count": null,
   "id": "e1b903ac",
   "metadata": {},
   "outputs": [],
   "source": [
    "#Grouping by total region expenditure\n",
    "total = df3.groupby('Region').sum()\n",
    "total"
   ]
  },
  {
   "cell_type": "code",
   "execution_count": null,
   "id": "36fbe6e8",
   "metadata": {},
   "outputs": [],
   "source": [
    "total.rename(columns={\" 2017/18 \": \"2017/18 expense\", \" 2018/19 \": \"2018/19 expense\", \" 2019/20 \": \"2019/20 expense\", \" 2020/21 \": \"2020/21 expense\", '2021/22':'2021/22 expense'})"
   ]
  },
  {
   "cell_type": "code",
   "execution_count": null,
   "id": "fc09a168",
   "metadata": {},
   "outputs": [],
   "source": [
    "#Converted total yearly road maintnense expense to csv\n",
    "filepath = Path('Road_maintenance.csv')  \n",
    "filepath.parent.mkdir(parents=True, exist_ok=True)  \n",
    "total.to_csv(filepath)  "
   ]
  },
  {
   "cell_type": "code",
   "execution_count": null,
   "id": "5bd0d376",
   "metadata": {},
   "outputs": [],
   "source": [
    "#finding yearly cost of public transport\n",
    "pt = pd.read_csv('FundPT.csv')"
   ]
  },
  {
   "cell_type": "code",
   "execution_count": null,
   "id": "06058679",
   "metadata": {},
   "outputs": [],
   "source": [
    "pt"
   ]
  },
  {
   "cell_type": "code",
   "execution_count": null,
   "id": "ec56addd",
   "metadata": {},
   "outputs": [],
   "source": [
    "#Drop unneeded collums\n",
    "pt1 = pt.drop(columns=[' 2011/12 ', ' 2012/13 ', ' 2013/14 ', ' 2014/15 ', ' 2015/16 ', ' 2016/17 '])\n",
    "pt1.head()"
   ]
  },
  {
   "cell_type": "code",
   "execution_count": null,
   "id": "1e7ebcf7",
   "metadata": {},
   "outputs": [],
   "source": [
    "#clean cash value columns and change to float\n",
    "dates = [' 2017/18 ', ' 2018/19 ', ' 2019/20 ',\n",
    "       ' 2020/21 ', '2021/22']\n",
    "for x in dates:\n",
    "    pt1[x] = pt1[x].replace(\"[$,]\", \"\", regex=True).replace(\"[-$]\", \"0\", regex=True).astype(float)\n",
    "    "
   ]
  },
  {
   "cell_type": "code",
   "execution_count": null,
   "id": "ec0c5470",
   "metadata": {},
   "outputs": [],
   "source": [
    "#remove Teritorial Authority rows\n",
    "pt2 = pt1[pt1['Authority Type'] != 'Teritorial Authority']\n",
    "pt2['Authority Type'].value_counts()"
   ]
  },
  {
   "cell_type": "code",
   "execution_count": null,
   "id": "5dc543f7",
   "metadata": {},
   "outputs": [],
   "source": [
    "#group by region to find total expense \n",
    "pt_total = pt2.groupby('Region').sum()\n",
    "pt_total"
   ]
  },
  {
   "cell_type": "code",
   "execution_count": null,
   "id": "32e3ebe9",
   "metadata": {},
   "outputs": [],
   "source": [
    "#clear up column names \n",
    "pt_total.rename(columns={\" 2017/18 \": \"2017/18 expense\", \" 2018/19 \": \"2018/19 expense\", \" 2019/20 \": \"2019/20 expense\", \" 2020/21 \": \"2020/21 expense\", '2021/22':'2021/22 expense'})"
   ]
  },
  {
   "cell_type": "code",
   "execution_count": null,
   "id": "ab0648b6",
   "metadata": {},
   "outputs": [],
   "source": [
    "filepath = Path('Public_transport.csv')  \n",
    "filepath.parent.mkdir(parents=True, exist_ok=True)  \n",
    "pt_total.to_csv(filepath)"
   ]
  },
  {
   "cell_type": "code",
   "execution_count": null,
   "id": "2cf9d078",
   "metadata": {},
   "outputs": [],
   "source": []
  }
 ],
 "metadata": {
  "kernelspec": {
   "display_name": "Python 3 (ipykernel)",
   "language": "python",
   "name": "python3"
  },
  "language_info": {
   "codemirror_mode": {
    "name": "ipython",
    "version": 3
   },
   "file_extension": ".py",
   "mimetype": "text/x-python",
   "name": "python",
   "nbconvert_exporter": "python",
   "pygments_lexer": "ipython3",
   "version": "3.10.11"
  }
 },
 "nbformat": 4,
 "nbformat_minor": 5
}
